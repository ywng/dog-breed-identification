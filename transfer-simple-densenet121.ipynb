{
 "cells": [
  {
   "cell_type": "code",
   "execution_count": 1,
   "metadata": {
    "collapsed": true
   },
   "outputs": [],
   "source": [
    "import torch\n",
    "import torchvision\n",
    "import torchvision.transforms as transforms\n",
    "import torch.utils.data\n",
    "from PIL import Image\n",
    "from torch.utils.data.dataset import Dataset\n",
    "import numpy as np\n",
    "import pandas as pd\n",
    "\n",
    "from torch.autograd import Variable\n",
    "import torch.nn as nn\n",
    "import torch.nn.functional as F\n",
    "import torch.optim as optim"
   ]
  },
  {
   "cell_type": "code",
   "execution_count": 2,
   "metadata": {},
   "outputs": [],
   "source": [
    "num_classes = 120\n",
    "batch_size = 4\n",
    "epochs = 15\n",
    "sample_submission = pd.read_csv('./data/sample_submission.csv')"
   ]
  },
  {
   "cell_type": "code",
   "execution_count": 3,
   "metadata": {},
   "outputs": [],
   "source": [
    "normalize = transforms.Normalize(mean=[0.485, 0.456, 0.406], std=[0.229, 0.224, 0.225])\n",
    "train_transform = transforms.Compose([transforms.RandomResizedCrop(224),\n",
    "                transforms.RandomHorizontalFlip(),\n",
    "                transforms.ToTensor(),\n",
    "                normalize])\n",
    "valid_transform = transforms.Compose([transforms.Resize(256),\n",
    "                transforms.CenterCrop(224),\n",
    "                transforms.ToTensor(),\n",
    "                normalize])\n",
    "\n",
    "\n",
    "trainset = torchvision.datasets.ImageFolder(\"./data/train/\", train_transform);\n",
    "trainloader = torch.utils.data.DataLoader(trainset, batch_size=batch_size,\n",
    "                                          shuffle=True, num_workers=2)\n",
    "\n",
    "validset = torchvision.datasets.ImageFolder(\"./data/valid/\", valid_transform);\n",
    "validloader = torch.utils.data.DataLoader(validset, batch_size=batch_size,\n",
    "                                          shuffle=False, num_workers=2)\n",
    "\n",
    "classes = trainloader.dataset.classes"
   ]
  },
  {
   "cell_type": "code",
   "execution_count": null,
   "metadata": {
    "collapsed": true
   },
   "outputs": [],
   "source": [
    "def train(model, train, valid, optimizer, criterion, epochs=1):\n",
    "    for epoch in range(epochs):\n",
    "        print('Epoch ', epoch + 1, '/', epochs)\n",
    "        \n",
    "        running_loss = 0.\n",
    "        running_corrects = 0.\n",
    "        running_batches = 0.\n",
    "       \n",
    "        model.train()\n",
    "        for i, (input, target) in enumerate(train):\n",
    "            input_var = torch.autograd.Variable(input)\n",
    "            target_var = torch.autograd.Variable(target)\n",
    "\n",
    "            optimizer.zero_grad()\n",
    "\n",
    "            output = model(input_var)\n",
    "            _, preds = torch.max(output.data, 1)\n",
    "            loss = criterion(output, target_var)\n",
    "\n",
    "            loss.backward()\n",
    "            optimizer.step()\n",
    "            \n",
    "            running_loss += loss.data[0]\n",
    "            running_corrects += torch.sum(preds == target)\n",
    "            running_batches += 1.\n",
    "            \n",
    "            ''' for testing \n",
    "            if i > 10:\n",
    "                break\n",
    "            '''\n",
    "\n",
    "            print('\\r', 'Batch', i, 'Loss', loss.data[0], end='')\n",
    "            \n",
    "        train_loss = running_loss / running_batches\n",
    "        train_acc = running_corrects / len(train.dataset)\n",
    "        print('\\r', \"Train Loss\", train_loss, \"Train Accuracy\", train_acc)\n",
    "            \n",
    "        running_loss = 0.\n",
    "        running_corrects = 0.\n",
    "        running_batches = 0.\n",
    "\n",
    "        model.eval()\n",
    "        for i, (input, target) in enumerate(valid):\n",
    "            input_var = torch.autograd.Variable(input, volatile=True)\n",
    "            target_var = torch.autograd.Variable(target, volatile=True)\n",
    "\n",
    "            output = model(input_var)\n",
    "            _, preds = torch.max(output.data, 1)\n",
    "            loss = criterion(output, target_var)\n",
    "\n",
    "            running_loss += loss.data[0]\n",
    "            running_corrects += torch.sum(preds == target)\n",
    "            running_batches += 1.\n",
    "            \n",
    "            ''' for testing \n",
    "            if i > 10:\n",
    "                break\n",
    "            '''\n",
    "\n",
    "        valid_loss = running_loss / running_batches\n",
    "        valid_acc = running_corrects / len(valid.dataset)\n",
    "        print('\\r', \"Val Loss\", valid_loss, \"Val Accuracy\", valid_acc)"
   ]
  },
  {
   "cell_type": "code",
   "execution_count": null,
   "metadata": {},
   "outputs": [
    {
     "name": "stdout",
     "output_type": "stream",
     "text": [
      "Epoch  1 / 15\n",
      " Batch 38 Loss 4.2274265289306645"
     ]
    }
   ],
   "source": [
    "model = torchvision.models.densenet121(pretrained=True)\n",
    "for param in model.parameters():\n",
    "    param.requires_grad = False\n",
    "    \n",
    "num_features = model.classifier.in_features\n",
    "#replace the classifier of the trained network with our dog classifier\n",
    "model.classifier = nn.Linear(num_features, num_classes) \n",
    "\n",
    "criterion = nn.CrossEntropyLoss()\n",
    "optimizer = torch.optim.Adam(model.classifier.parameters())\n",
    "\n",
    "train(model, trainloader, validloader, optimizer, criterion, epochs=epochs)"
   ]
  },
  {
   "cell_type": "code",
   "execution_count": null,
   "metadata": {
    "collapsed": true
   },
   "outputs": [],
   "source": [
    "torch.save(model.state_dict(), 'dog-breed-ident-densenet121.pt')"
   ]
  },
  {
   "cell_type": "code",
   "execution_count": null,
   "metadata": {
    "collapsed": true
   },
   "outputs": [],
   "source": [
    "class DogsData(Dataset):\n",
    "    def __init__(self, root_dir, labels, transform, output_class=True):\n",
    "        self.labels = labels\n",
    "        self.root_dir = root_dir\n",
    "        self.transform = transform\n",
    "        self.output_class = output_class\n",
    "    \n",
    "    def __len__(self):\n",
    "        return len(self.labels)\n",
    "    \n",
    "    def __getitem__(self, idx):\n",
    "        item = self.labels.iloc[idx]\n",
    "        path = '{}/{}.jpg'.format(self.root_dir, item['id'])\n",
    "        image = Image.open(path).convert('RGB')\n",
    "\n",
    "        if self.transform:\n",
    "            image = self.transform(image)\n",
    "            \n",
    "        if not self.output_class:\n",
    "            return image\n",
    "        \n",
    "        return image, item['class']\n",
    "\n",
    "test_loader = torch.utils.data.DataLoader(\n",
    "    DogsData('./data/test/x', sample_submission, valid_transform, output_class=False),\n",
    "    batch_size=batch_size\n",
    ")"
   ]
  },
  {
   "cell_type": "code",
   "execution_count": null,
   "metadata": {},
   "outputs": [],
   "source": [
    "model.load_state_dict(torch.load('dog-breed-ident-densenet121.pt'))\n",
    "model.eval()\n",
    "results = []\n",
    "\n",
    "for i, input in enumerate(test_loader):\n",
    "    input_var = torch.autograd.Variable(input, volatile=True)\n",
    "    output = model(input_var)\n",
    "    results.append(F.softmax(output, dim=1).cpu().data.numpy())\n",
    "    print('\\r', 'Batch', i, end='')\n",
    "    \n",
    "    ''' for testing \n",
    "    if i > 10:\n",
    "        break\n",
    "    '''\n",
    "        \n",
    "results = np.concatenate(results)"
   ]
  },
  {
   "cell_type": "code",
   "execution_count": null,
   "metadata": {},
   "outputs": [],
   "source": [
    "results.shape"
   ]
  },
  {
   "cell_type": "code",
   "execution_count": null,
   "metadata": {},
   "outputs": [],
   "source": [
    "ids = sample_submission['id'].values\n",
    "sample_df = pd.DataFrame(ids, columns=['id'])\n",
    "#sample_df = sample_df[:48] #for testing only\n",
    "#sample_df.shape\n",
    "for index, breed in enumerate(classes):\n",
    "    sample_df[breed] = results[:,index]"
   ]
  },
  {
   "cell_type": "code",
   "execution_count": null,
   "metadata": {
    "collapsed": true
   },
   "outputs": [],
   "source": [
    "sample_df.to_csv('pred.csv', index=None)"
   ]
  },
  {
   "cell_type": "code",
   "execution_count": null,
   "metadata": {
    "collapsed": true
   },
   "outputs": [],
   "source": []
  }
 ],
 "metadata": {
  "kernelspec": {
   "display_name": "Python 3",
   "language": "python",
   "name": "python3"
  },
  "language_info": {
   "codemirror_mode": {
    "name": "ipython",
    "version": 3
   },
   "file_extension": ".py",
   "mimetype": "text/x-python",
   "name": "python",
   "nbconvert_exporter": "python",
   "pygments_lexer": "ipython3",
   "version": "3.6.1"
  }
 },
 "nbformat": 4,
 "nbformat_minor": 2
}
