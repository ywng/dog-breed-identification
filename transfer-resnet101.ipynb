{
 "cells": [
  {
   "cell_type": "code",
   "execution_count": 1,
   "metadata": {
    "collapsed": true
   },
   "outputs": [],
   "source": [
    "import torch\n",
    "import torchvision\n",
    "import torchvision.transforms as transforms\n",
    "import torch.utils.data\n",
    "from PIL import Image\n",
    "from torch.utils.data.dataset import Dataset\n",
    "import numpy as np\n",
    "import pandas as pd\n",
    "\n",
    "from torch.autograd import Variable\n",
    "import torch.nn as nn\n",
    "import torch.nn.functional as F\n",
    "import torch.optim as optim\n",
    "\n",
    "import pickle"
   ]
  },
  {
   "cell_type": "code",
   "execution_count": 2,
   "metadata": {
    "collapsed": true
   },
   "outputs": [],
   "source": [
    "num_classes = 120\n",
    "batch_size = 4\n",
    "epochs = 15\n",
    "sample_submission = pd.read_csv('./data/sample_submission.csv')"
   ]
  },
  {
   "cell_type": "code",
   "execution_count": 3,
   "metadata": {
    "collapsed": true
   },
   "outputs": [],
   "source": [
    "normalize = transforms.Normalize(mean=[0.485, 0.456, 0.406], std=[0.229, 0.224, 0.225])\n",
    "train_transform = transforms.Compose([transforms.RandomResizedCrop(224),\n",
    "                transforms.RandomHorizontalFlip(),\n",
    "                transforms.ToTensor(),\n",
    "                normalize])\n",
    "valid_transform = transforms.Compose([transforms.Resize(256),\n",
    "                transforms.CenterCrop(224),\n",
    "                transforms.ToTensor(),\n",
    "                normalize])\n",
    "\n",
    "\n",
    "trainset = torchvision.datasets.ImageFolder(\"./data/train/\", train_transform);\n",
    "trainloader = torch.utils.data.DataLoader(trainset, batch_size=batch_size,\n",
    "                                          shuffle=True, num_workers=2)\n",
    "\n",
    "validset = torchvision.datasets.ImageFolder(\"./data/valid/\", valid_transform);\n",
    "validloader = torch.utils.data.DataLoader(validset, batch_size=batch_size,\n",
    "                                          shuffle=False, num_workers=2)\n",
    "\n",
    "classes = trainloader.dataset.classes\n",
    "pickle.dump(classes, open(\"dog_breeds_labels.pickle\", \"wb\"), 2)"
   ]
  },
  {
   "cell_type": "code",
   "execution_count": 4,
   "metadata": {
    "collapsed": true
   },
   "outputs": [],
   "source": [
    "def train(model, train, valid, optimizer, criterion, epochs=1):\n",
    "    for epoch in range(epochs):\n",
    "        print('Epoch ', epoch + 1, '/', epochs)\n",
    "        \n",
    "        running_loss = 0.\n",
    "        running_corrects = 0.\n",
    "        running_batches = 0.\n",
    "       \n",
    "        model.train()\n",
    "        for i, (input, target) in enumerate(train):\n",
    "            input_var = torch.autograd.Variable(input)\n",
    "            target_var = torch.autograd.Variable(target)\n",
    "\n",
    "            optimizer.zero_grad()\n",
    "\n",
    "            output = model(input_var)\n",
    "            _, preds = torch.max(output.data, 1)\n",
    "            loss = criterion(output, target_var)\n",
    "\n",
    "            loss.backward()\n",
    "            optimizer.step()\n",
    "            \n",
    "            running_loss += loss.data[0]\n",
    "            running_corrects += torch.sum(preds == target)\n",
    "            running_batches += 1.\n",
    "            \n",
    "            ''' for testing \n",
    "            if i > 10:\n",
    "                break\n",
    "            '''\n",
    "\n",
    "            print('\\r', 'Batch', i, 'Loss', loss.data[0], end='')\n",
    "            \n",
    "        train_loss = running_loss / running_batches\n",
    "        train_acc = running_corrects / len(train.dataset)\n",
    "        print('\\r', \"Train Loss\", train_loss, \"Train Accuracy\", train_acc)\n",
    "            \n",
    "        running_loss = 0.\n",
    "        running_corrects = 0.\n",
    "        running_batches = 0.\n",
    "\n",
    "        model.eval()\n",
    "        for i, (input, target) in enumerate(valid):\n",
    "            input_var = torch.autograd.Variable(input, volatile=True)\n",
    "            target_var = torch.autograd.Variable(target, volatile=True)\n",
    "\n",
    "            output = model(input_var)\n",
    "            _, preds = torch.max(output.data, 1)\n",
    "            loss = criterion(output, target_var)\n",
    "\n",
    "            running_loss += loss.data[0]\n",
    "            running_corrects += torch.sum(preds == target)\n",
    "            running_batches += 1.\n",
    "            \n",
    "            ''' for testing \n",
    "            if i > 10:\n",
    "                break\n",
    "            '''\n",
    "\n",
    "        valid_loss = running_loss / running_batches\n",
    "        valid_acc = running_corrects / len(valid.dataset)\n",
    "        print('\\r', \"Val Loss\", valid_loss, \"Val Accuracy\", valid_acc)"
   ]
  },
  {
   "cell_type": "code",
   "execution_count": 5,
   "metadata": {
    "scrolled": true
   },
   "outputs": [
    {
     "name": "stderr",
     "output_type": "stream",
     "text": [
      "Downloading: \"https://download.pytorch.org/models/resnet101-5d3b4d8f.pth\" to /Users/ywng/.torch/models/resnet101-5d3b4d8f.pth\n",
      "100%|██████████| 178728960/178728960 [00:29<00:00, 6061288.27it/s]\n"
     ]
    },
    {
     "name": "stdout",
     "output_type": "stream",
     "text": [
      "Epoch  1 / 15\n",
      " Train Loss 3.393887323215024 Train Accuracy 0.27612212626201194\n",
      " Val Loss 4.743051411120065 Val Accuracy 0.6731634182908546\n",
      "Epoch  2 / 15\n",
      " Train Loss 2.535677921007014 Train Accuracy 0.4273202773385233\n",
      " Val Loss 2.5564333322802844 Val Accuracy 0.7326336831584208\n",
      "Epoch  3 / 15\n",
      " Train Loss 2.4363905190646915 Train Accuracy 0.470137452864615\n",
      " Val Loss 2.9801971999489036 Val Accuracy 0.7446276861569215\n",
      "Epoch  4 / 15\n",
      " Train Loss 2.4334676929371084 Train Accuracy 0.49543851113003284\n",
      " Val Loss 2.5797724167826743 Val Accuracy 0.7486256871564217\n",
      "Epoch  5 / 15\n",
      " Train Loss 2.4250090426870927 Train Accuracy 0.5108867534363216\n",
      " Val Loss 4.324468511896449 Val Accuracy 0.7311344327836082\n",
      "Epoch  6 / 15\n",
      " Train Loss 2.493647283198156 Train Accuracy 0.5060211653083566\n",
      " Val Loss 11.214592614347705 Val Accuracy 0.744127936031984\n",
      "Epoch  7 / 15\n",
      " Train Loss 2.3889695324331623 Train Accuracy 0.5282812309937964\n",
      " Val Loss 7.781450214597678 Val Accuracy 0.7141429285357321\n",
      "Epoch  8 / 15\n",
      " Train Loss 2.3734080572909853 Train Accuracy 0.5391071645785185\n",
      " Val Loss 3.696921057746846 Val Accuracy 0.7381309345327336\n",
      "Epoch  9 / 15\n",
      " Train Loss 2.456636029824928 Train Accuracy 0.5338766573409561\n",
      " Val Loss 3.9555448165574516 Val Accuracy 0.7766116941529235\n",
      "Epoch  10 / 15\n",
      " Train Loss 2.4030532995020906 Train Accuracy 0.5391071645785185\n",
      " Val Loss 4.230868847791633 Val Accuracy 0.7691154422788605\n",
      "Epoch  11 / 15\n",
      " Train Loss 2.415480721625264 Train Accuracy 0.5569882009487896\n",
      " Val Loss 6.551285735582446 Val Accuracy 0.7666166916541729\n",
      "Epoch  12 / 15\n",
      " Train Loss 2.436968906268777 Train Accuracy 0.546527186473665\n",
      " Val Loss 4.13191201680654 Val Accuracy 0.7871064467766117\n",
      "Epoch  13 / 15\n",
      " Train Loss 2.4463682777642357 Train Accuracy 0.555406884807201\n",
      " Val Loss 7.739569317609242 Val Accuracy 0.743128435782109\n",
      "Epoch  14 / 15\n",
      " Train Loss 2.4016089599887542 Train Accuracy 0.5551636054008028\n",
      " Val Loss 6.727584476191206 Val Accuracy 0.7661169415292354\n",
      "Epoch  15 / 15\n",
      " Train Loss 2.4062391053179213 Train Accuracy 0.5664760977983214\n",
      " Val Loss 8.48276455173967 Val Accuracy 0.751624187906047\n"
     ]
    }
   ],
   "source": [
    "model = torchvision.models.resnet101(pretrained=True)\n",
    "for param in model.parameters():\n",
    "    param.requires_grad = False\n",
    "    \n",
    "num_features = model.fc.in_features\n",
    "#replace the classifier of the trained network with our dog classifier\n",
    "#parameters of newly constructed modules have required_grad=True by default\n",
    "model.fc = nn.Linear(num_features, num_classes) \n",
    "\n",
    "criterion = nn.CrossEntropyLoss()\n",
    "#Optimize only the classifier\n",
    "optimizer = torch.optim.Adam(model.fc.parameters())\n",
    "\n",
    "train(model, trainloader, validloader, optimizer, criterion, epochs=epochs)"
   ]
  },
  {
   "cell_type": "code",
   "execution_count": 6,
   "metadata": {
    "collapsed": true
   },
   "outputs": [],
   "source": [
    "torch.save(model.state_dict(), 'dog-breed-ident-resnet101.pt')"
   ]
  },
  {
   "cell_type": "code",
   "execution_count": 7,
   "metadata": {
    "collapsed": true
   },
   "outputs": [],
   "source": [
    "class DogsData(Dataset):\n",
    "    def __init__(self, root_dir, labels, transform, output_class=True):\n",
    "        self.labels = labels\n",
    "        self.root_dir = root_dir\n",
    "        self.transform = transform\n",
    "        self.output_class = output_class\n",
    "    \n",
    "    def __len__(self):\n",
    "        return len(self.labels)\n",
    "    \n",
    "    def __getitem__(self, idx):\n",
    "        item = self.labels.iloc[idx]\n",
    "        path = '{}/{}.jpg'.format(self.root_dir, item['id'])\n",
    "        image = Image.open(path).convert('RGB')\n",
    "\n",
    "        if self.transform:\n",
    "            image = self.transform(image)\n",
    "            \n",
    "        if not self.output_class:\n",
    "            return image\n",
    "        \n",
    "        return image, item['class']\n",
    "\n",
    "test_loader = torch.utils.data.DataLoader(\n",
    "    DogsData('./data/test/x', sample_submission, valid_transform, output_class=False),\n",
    "    batch_size=batch_size\n",
    ")"
   ]
  },
  {
   "cell_type": "code",
   "execution_count": 8,
   "metadata": {},
   "outputs": [
    {
     "name": "stdout",
     "output_type": "stream",
     "text": [
      " Batch 2589"
     ]
    }
   ],
   "source": [
    "model.load_state_dict(torch.load('dog-breed-ident-resnet101.pt'))\n",
    "model.eval()\n",
    "results = []\n",
    "\n",
    "for i, input in enumerate(test_loader):\n",
    "    input_var = torch.autograd.Variable(input, volatile=True)\n",
    "    output = model(input_var)\n",
    "    results.append(F.softmax(output, dim=1).cpu().data.numpy())\n",
    "    print('\\r', 'Batch', i, end='')\n",
    "    \n",
    "    ''' for testing \n",
    "    if i > 10:\n",
    "        break\n",
    "    '''\n",
    "        \n",
    "results = np.concatenate(results)"
   ]
  },
  {
   "cell_type": "code",
   "execution_count": 9,
   "metadata": {},
   "outputs": [
    {
     "data": {
      "text/plain": [
       "(10357, 120)"
      ]
     },
     "execution_count": 9,
     "metadata": {},
     "output_type": "execute_result"
    }
   ],
   "source": [
    "results.shape"
   ]
  },
  {
   "cell_type": "code",
   "execution_count": 10,
   "metadata": {
    "collapsed": true
   },
   "outputs": [],
   "source": [
    "ids = sample_submission['id'].values\n",
    "sample_df = pd.DataFrame(ids, columns=['id'])\n",
    "#sample_df = sample_df[:48] #for testing only\n",
    "#sample_df.shape\n",
    "for index, breed in enumerate(classes):\n",
    "    sample_df[breed] = results[:,index]"
   ]
  },
  {
   "cell_type": "code",
   "execution_count": 11,
   "metadata": {
    "collapsed": true
   },
   "outputs": [],
   "source": [
    "sample_df.to_csv('pred_resnet101.csv', index=None)"
   ]
  },
  {
   "cell_type": "code",
   "execution_count": null,
   "metadata": {
    "collapsed": true
   },
   "outputs": [],
   "source": []
  }
 ],
 "metadata": {
  "kernelspec": {
   "display_name": "Python 3",
   "language": "python",
   "name": "python3"
  },
  "language_info": {
   "codemirror_mode": {
    "name": "ipython",
    "version": 3
   },
   "file_extension": ".py",
   "mimetype": "text/x-python",
   "name": "python",
   "nbconvert_exporter": "python",
   "pygments_lexer": "ipython3",
   "version": "3.6.1"
  }
 },
 "nbformat": 4,
 "nbformat_minor": 2
}
